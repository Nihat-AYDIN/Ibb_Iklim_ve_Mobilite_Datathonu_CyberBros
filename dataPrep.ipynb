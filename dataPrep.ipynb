{
 "cells": [
  {
   "cell_type": "code",
   "execution_count": 25,
   "metadata": {},
   "outputs": [],
   "source": [
    "import pandas as pd"
   ]
  },
  {
   "cell_type": "code",
   "execution_count": 26,
   "metadata": {},
   "outputs": [],
   "source": [
    "def data_prep(year,month,df):\n",
    "    df.drop(['road_type','transfer_type','transition_date'],axis=1,inplace=True)\n",
    "    # if month==1:\n",
    "    #     df.drop('_id',axis=1,inplace=True)\n",
    "    df.dropna(inplace=True)\n",
    "    a = df.groupby(['line', 'transport_type_id'])['number_of_passenger'].sum()\n",
    "    b = df.groupby(['line', 'transport_type_id'])['transition_hour'].mean()\n",
    "    c = df.groupby(['line', 'transport_type_id'])['number_of_passage'].sum()\n",
    "\n",
    "    # Her bir gruplama sonucunu DataFramelere dönüştürün ve sütun isimlerini belirtelim\n",
    "    a = a.reset_index()\n",
    "    a.columns = ['line', 'transport_type_id', 'number_of_passenger']\n",
    "\n",
    "    b = b.reset_index()\n",
    "    b.columns = ['line', 'transport_type_id', 'transition_hour']\n",
    "\n",
    "    c = c.reset_index()\n",
    "    c.columns = ['line', 'transport_type_id', 'number_of_passage']\n",
    "\n",
    "    # Her bir DataFrame'i birleştirelim\n",
    "    mix_df = pd.concat([a, b['transition_hour'], c['number_of_passage']], axis=1)\n",
    "    \n",
    "    mix_df['year'] = year\n",
    "    mix_df['month'] = month\n",
    "    \n",
    "    sira = ['line', 'month', 'year','transport_type_id', 'transition_hour', 'number_of_passage', 'number_of_passenger']\n",
    "    sira = list(dict.fromkeys(sira))  # Sira listesindeki yinelenen sütunların gelmesinden korunalım\n",
    "    mix_df = mix_df[sira]\n",
    "    return mix_df"
   ]
  },
  {
   "cell_type": "code",
   "execution_count": 27,
   "metadata": {},
   "outputs": [],
   "source": [
    "ocak = pd.read_csv('Ocak_2022.csv')\n",
    "ocak_df = data_prep(2022,1,ocak)"
   ]
  },
  {
   "cell_type": "code",
   "execution_count": 28,
   "metadata": {},
   "outputs": [],
   "source": [
    "subat = pd.read_csv('Subat_2022.csv')\n",
    "subat_df = data_prep(2022,2,subat)"
   ]
  },
  {
   "cell_type": "code",
   "execution_count": 29,
   "metadata": {},
   "outputs": [],
   "source": [
    "mart = pd.read_csv('Mart_2022.csv')\n",
    "mart_df = data_prep(2022,3,mart)"
   ]
  },
  {
   "cell_type": "code",
   "execution_count": 30,
   "metadata": {},
   "outputs": [],
   "source": [
    "nisan = pd.read_csv('Nisan_2022.csv')\n",
    "nisan_df = data_prep(2022,4,nisan)"
   ]
  },
  {
   "cell_type": "code",
   "execution_count": 31,
   "metadata": {},
   "outputs": [],
   "source": [
    "mayis = pd.read_csv('Mayis_2022.csv')\n",
    "mayis_df = data_prep(2022,5,mayis)"
   ]
  },
  {
   "cell_type": "code",
   "execution_count": 32,
   "metadata": {},
   "outputs": [],
   "source": [
    "haziran = pd.read_csv('Haziran_2022.csv')\n",
    "haziran_df = data_prep(2022,6,haziran)"
   ]
  },
  {
   "cell_type": "code",
   "execution_count": 33,
   "metadata": {},
   "outputs": [],
   "source": [
    "temmuz = pd.read_csv('Temmuz_2022.csv')\n",
    "temmuz_df = data_prep(2022,7,temmuz)"
   ]
  },
  {
   "cell_type": "code",
   "execution_count": 34,
   "metadata": {},
   "outputs": [],
   "source": [
    "agustos = pd.read_csv('Agustos_2022.csv')\n",
    "agustos_df = data_prep(2022,8,agustos)"
   ]
  },
  {
   "cell_type": "code",
   "execution_count": 35,
   "metadata": {},
   "outputs": [],
   "source": [
    "eylul = pd.read_csv('Eylul_2022.csv')\n",
    "eylul_df = data_prep(2022,9,eylul)"
   ]
  },
  {
   "cell_type": "code",
   "execution_count": 36,
   "metadata": {},
   "outputs": [],
   "source": [
    "ekim = pd.read_csv('Ekim_2022.csv')\n",
    "ekim_df = data_prep(2022,10,ekim)"
   ]
  },
  {
   "cell_type": "code",
   "execution_count": 37,
   "metadata": {},
   "outputs": [],
   "source": [
    "kasim = pd.read_csv('Kasim_2022.csv')\n",
    "kasim_df = data_prep(2022,11,kasim)"
   ]
  },
  {
   "cell_type": "code",
   "execution_count": 38,
   "metadata": {},
   "outputs": [],
   "source": [
    "aralik = pd.read_csv('Aralik_2022.csv')\n",
    "aralik_df = data_prep(2022,12,aralik)"
   ]
  },
  {
   "cell_type": "code",
   "execution_count": 39,
   "metadata": {},
   "outputs": [],
   "source": [
    "mix_df = pd.concat([ocak_df,mart_df,nisan_df,mayis_df,haziran_df,temmuz_df,agustos_df,eylul_df,ekim_df,kasim_df,aralik_df], ignore_index=True)"
   ]
  },
  {
   "cell_type": "code",
   "execution_count": 40,
   "metadata": {},
   "outputs": [],
   "source": [
    "mix_df.to_csv('2022.csv', index=False)"
   ]
  },
  {
   "cell_type": "code",
   "execution_count": 41,
   "metadata": {},
   "outputs": [
    {
     "data": {
      "text/html": [
       "<div>\n",
       "<style scoped>\n",
       "    .dataframe tbody tr th:only-of-type {\n",
       "        vertical-align: middle;\n",
       "    }\n",
       "\n",
       "    .dataframe tbody tr th {\n",
       "        vertical-align: top;\n",
       "    }\n",
       "\n",
       "    .dataframe thead th {\n",
       "        text-align: right;\n",
       "    }\n",
       "</style>\n",
       "<table border=\"1\" class=\"dataframe\">\n",
       "  <thead>\n",
       "    <tr style=\"text-align: right;\">\n",
       "      <th></th>\n",
       "      <th>line</th>\n",
       "      <th>month</th>\n",
       "      <th>year</th>\n",
       "      <th>transport_type_id</th>\n",
       "      <th>transition_hour</th>\n",
       "      <th>number_of_passage</th>\n",
       "      <th>number_of_passenger</th>\n",
       "    </tr>\n",
       "  </thead>\n",
       "  <tbody>\n",
       "    <tr>\n",
       "      <th>0</th>\n",
       "      <td>EMINONU-OKMEYDANI</td>\n",
       "      <td>1</td>\n",
       "      <td>2022</td>\n",
       "      <td>1</td>\n",
       "      <td>13.931202</td>\n",
       "      <td>58011</td>\n",
       "      <td>57783</td>\n",
       "    </tr>\n",
       "    <tr>\n",
       "      <th>1</th>\n",
       "      <td>KARTAL-AYDOS HILAL KONUTLARI</td>\n",
       "      <td>1</td>\n",
       "      <td>2022</td>\n",
       "      <td>1</td>\n",
       "      <td>13.910646</td>\n",
       "      <td>68634</td>\n",
       "      <td>68275</td>\n",
       "    </tr>\n",
       "    <tr>\n",
       "      <th>2</th>\n",
       "      <td>A.YESEVI MAH-UMRANIYE</td>\n",
       "      <td>1</td>\n",
       "      <td>2022</td>\n",
       "      <td>1</td>\n",
       "      <td>13.293970</td>\n",
       "      <td>25551</td>\n",
       "      <td>25514</td>\n",
       "    </tr>\n",
       "    <tr>\n",
       "      <th>3</th>\n",
       "      <td>ACARLAR SITESI / ATASEHIR - USKUDAR</td>\n",
       "      <td>1</td>\n",
       "      <td>2022</td>\n",
       "      <td>1</td>\n",
       "      <td>13.553996</td>\n",
       "      <td>25734</td>\n",
       "      <td>25704</td>\n",
       "    </tr>\n",
       "    <tr>\n",
       "      <th>4</th>\n",
       "      <td>ADA TAKSI</td>\n",
       "      <td>1</td>\n",
       "      <td>2022</td>\n",
       "      <td>1</td>\n",
       "      <td>13.213115</td>\n",
       "      <td>16608</td>\n",
       "      <td>16393</td>\n",
       "    </tr>\n",
       "  </tbody>\n",
       "</table>\n",
       "</div>"
      ],
      "text/plain": [
       "                                  line  month  year  transport_type_id  \\\n",
       "0                    EMINONU-OKMEYDANI      1  2022                  1   \n",
       "1         KARTAL-AYDOS HILAL KONUTLARI      1  2022                  1   \n",
       "2                A.YESEVI MAH-UMRANIYE      1  2022                  1   \n",
       "3  ACARLAR SITESI / ATASEHIR - USKUDAR      1  2022                  1   \n",
       "4                            ADA TAKSI      1  2022                  1   \n",
       "\n",
       "   transition_hour  number_of_passage  number_of_passenger  \n",
       "0        13.931202              58011                57783  \n",
       "1        13.910646              68634                68275  \n",
       "2        13.293970              25551                25514  \n",
       "3        13.553996              25734                25704  \n",
       "4        13.213115              16608                16393  "
      ]
     },
     "execution_count": 41,
     "metadata": {},
     "output_type": "execute_result"
    }
   ],
   "source": [
    "mix_df.head()"
   ]
  },
  {
   "cell_type": "code",
   "execution_count": 49,
   "metadata": {},
   "outputs": [],
   "source": [
    "a2022 = pd.read_csv(\"2022.csv\")\n",
    "a2021 = pd.read_csv(\"2021.csv\")"
   ]
  },
  {
   "cell_type": "code",
   "execution_count": 50,
   "metadata": {},
   "outputs": [],
   "source": [
    "mix_df = pd.concat([a2021, a2022], ignore_index=True)\n",
    "mix_df['intensity'] = mix_df['number_of_passenger']/mix_df['number_of_passage']"
   ]
  },
  {
   "cell_type": "code",
   "execution_count": 51,
   "metadata": {},
   "outputs": [],
   "source": [
    "mix_df.to_csv('data.csv', index=False)\n"
   ]
  },
  {
   "cell_type": "code",
   "execution_count": 70,
   "metadata": {},
   "outputs": [],
   "source": [
    "mix_df = mix_df[mix_df['number_of_passage'] >= 100]"
   ]
  },
  {
   "cell_type": "code",
   "execution_count": 68,
   "metadata": {},
   "outputs": [],
   "source": [
    "import seaborn as sns\n",
    "import matplotlib.pyplot as plt\n",
    "import numpy as np\n",
    "def plot_distributions(dataframe, columns,kde=False, log_transform=False, label_angle=0, \n",
    "                       figsize = (8,3) , order_cats= False, target_pie=False, alert=False): \n",
    "\n",
    "    if alert == True:\n",
    "        pie_palette = alert_palette\n",
    "    else:\n",
    "        pie_palette = sequential_palette\n",
    "        \n",
    "    if target_pie == True:\n",
    "        ax = dataframe[columns].value_counts().plot.pie(autopct='%1.1f%%',\n",
    "                                              textprops={'fontsize':10},\n",
    "                                              colors=pie_palette\n",
    "                                              ).set_title(f\"{cnf.target} Distribution\")\n",
    "        plt.ylabel('')\n",
    "        plt.show()\n",
    "\n",
    "    else:\n",
    "        for col in columns:\n",
    "            if log_transform == True:\n",
    "                x = np.log10(dataframe[col])\n",
    "                title = f'{col} - Log Transformed'\n",
    "            else:\n",
    "                x = dataframe[col]\n",
    "                title = f'{col}'\n",
    "            \n",
    "            if order_cats == True:\n",
    "                \n",
    "                print(pd.DataFrame({col: dataframe[col].value_counts(),\n",
    "                            \"Ratio\": 100 * dataframe[col].value_counts() / len(dataframe)}))\n",
    "            \n",
    "                print(\"##########################################\")\n",
    "                \n",
    "                print(f\"NA in {col} : {dataframe[col].isnull().sum()}\")\n",
    "                \n",
    "                print(\"##########################################\")\n",
    "\n",
    "                labels = dataframe[col].value_counts(ascending=False).index\n",
    "                values = dataframe[col].value_counts(ascending=False).values\n",
    "                \n",
    "                plt.subplots(figsize=figsize)\n",
    "                plt.tight_layout()\n",
    "                plt.xticks(rotation=label_angle)\n",
    "                sns.barplot(x=labels,\n",
    "                            y=values,\n",
    "                            palette = sequential_palette)\n",
    "                        \n",
    "            else:   \n",
    "            \n",
    "                quantiles = [0.05, 0.10, 0.20, 0.30, 0.40, 0.50, 0.60, 0.70, 0.80, 0.90, 0.95, 0.99]\n",
    "                print(dataframe[col].describe(quantiles).T)\n",
    "\n",
    "                plt.subplots(figsize=figsize)\n",
    "                plt.tight_layout()\n",
    "                plt.xticks(rotation=label_angle)\n",
    "                sns.histplot(x,\n",
    "                        bins=50,\n",
    "                        kde=kde,\n",
    "                        color = sequential_palette[0])\n",
    "\n",
    "    \n",
    "            plt.title(title)\n",
    "            plt.show()\n",
    "bright_palette = sns.color_palette('bright')\n",
    "muted_palette = sns.color_palette('muted')\n",
    "sequential_palette = sns.color_palette('light:dodgerblue_r',9)\n",
    "alert_palette = sns.color_palette('Reds_r',9)\n",
    "paired_palette = sns.color_palette('Paired')\n",
    "def numeric_variables_boxplot(df, num_cols, target=None, alert=False):\n",
    "\n",
    "    if alert == True:\n",
    "        palette = alert_palette\n",
    "    else:\n",
    "        palette = bright_palette\n",
    "        \n",
    "    if target == None:\n",
    "        \n",
    "        fig, [ax1,ax2,ax3,ax4] = plt.subplots(1,4, figsize=(7,3))\n",
    "\n",
    "        for col, ax, i in zip(num_cols, [ax1,ax2,ax3,ax4], range(4)):\n",
    "            sns.boxplot(df[col], \n",
    "                        color=palette[i], \n",
    "                        ax=ax\n",
    "                        ).set_title(col)\n",
    "            \n",
    "        for ax in [ax1,ax2,ax3,ax4]:\n",
    "            ax.set_xticklabels([])\n",
    "    else:\n",
    "        for col in num_cols:\n",
    "            plt.subplots(figsize=(7,3))\n",
    "            sns.boxplot(x=df[target], \n",
    "                                y=df[col],\n",
    "                                hue=df[target],\n",
    "                                dodge=False, \n",
    "                                fliersize=3,\n",
    "                                linewidth=0.7,\n",
    "                                palette=palette)\n",
    "            plt.title(col)\n",
    "            plt.xlabel('')\n",
    "            plt.ylabel('')\n",
    "            plt.xticks(rotation=45)\n",
    "            plt.legend('',frameon=False)\n",
    "\n",
    "    plt.tight_layout()\n",
    "    plt.show()"
   ]
  },
  {
   "cell_type": "code",
   "execution_count": 69,
   "metadata": {},
   "outputs": [
    {
     "name": "stdout",
     "output_type": "stream",
     "text": [
      "count    1.803900e+04\n",
      "mean     2.006309e+05\n",
      "std      1.062539e+06\n",
      "min      1.000000e+00\n",
      "5%       2.059900e+03\n",
      "10%      3.941800e+03\n",
      "20%      8.433800e+03\n",
      "30%      1.614820e+04\n",
      "40%      2.655860e+04\n",
      "50%      4.099700e+04\n",
      "60%      6.512960e+04\n",
      "70%      1.031412e+05\n",
      "80%      1.698814e+05\n",
      "90%      2.966676e+05\n",
      "95%      4.540856e+05\n",
      "99%      3.772629e+06\n",
      "max      2.263521e+07\n",
      "Name: number_of_passage, dtype: float64\n"
     ]
    },
    {
     "data": {
      "image/png": "[encoded data removed]",
      "text/plain": [
       "<Figure size 800x300 with 1 Axes>"
      ]
     },
     "metadata": {},
     "output_type": "display_data"
    }
   ],
   "source": [
    "plot_distributions(mix_df,['number_of_passage'],log_transform=True)"
   ]
  },
  {
   "cell_type": "code",
   "execution_count": 60,
   "metadata": {},
   "outputs": [
    {
     "data": {
      "image/png": "[encoded data removed]",
      "text/plain": [
       "<Figure size 700x300 with 4 Axes>"
      ]
     },
     "metadata": {},
     "output_type": "display_data"
    }
   ],
   "source": [
    "numeric_variables_boxplot(mix_df,['number_of_passage'])"
   ]
  },
  {
   "cell_type": "code",
   "execution_count": 45,
   "metadata": {},
   "outputs": [],
   "source": [
    "# mix_df.head()"
   ]
  },
  {
   "cell_type": "code",
   "execution_count": 46,
   "metadata": {},
   "outputs": [
    {
     "data": {
      "text/plain": [
       "(9154, 7)"
      ]
     },
     "execution_count": 46,
     "metadata": {},
     "output_type": "execute_result"
    }
   ],
   "source": [
    "# mix_df.shape"
   ]
  },
  {
   "cell_type": "code",
   "execution_count": 47,
   "metadata": {},
   "outputs": [],
   "source": [
    "# df = pd.read_csv('data.csv')\n",
    "# df['intensity'] = df['number_of_passenger']/df['number_of_passage']"
   ]
  },
  {
   "cell_type": "code",
   "execution_count": 48,
   "metadata": {},
   "outputs": [],
   "source": [
    "# df.head()"
   ]
  }
 ],
 "metadata": {
  "kernelspec": {
   "display_name": "Python 3",
   "language": "python",
   "name": "python3"
  },
  "language_info": {
   "codemirror_mode": {
    "name": "ipython",
    "version": 3
   },
   "file_extension": ".py",
   "mimetype": "text/x-python",
   "name": "python",
   "nbconvert_exporter": "python",
   "pygments_lexer": "ipython3",
   "version": "3.11.4"
  }
 },
 "nbformat": 4,
 "nbformat_minor": 2
}
