{
 "cells": [
  {
   "cell_type": "code",
   "execution_count": 25,
   "metadata": {},
   "outputs": [],
   "source": [
    "import pandas as pd"
   ]
  },
  {
   "cell_type": "code",
   "execution_count": 26,
   "metadata": {},
   "outputs": [],
   "source": [
    "def data_prep(year,month,df):\n",
    "    df.drop(['road_type','transfer_type','transition_date'],axis=1,inplace=True)\n",
    "    # if month==1:\n",
    "    #     df.drop('_id',axis=1,inplace=True)\n",
    "    df.dropna(inplace=True)\n",
    "    a = df.groupby(['line', 'transport_type_id'])['number_of_passenger'].sum()\n",
    "    b = df.groupby(['line', 'transport_type_id'])['transition_hour'].mean()\n",
    "    c = df.groupby(['line', 'transport_type_id'])['number_of_passage'].sum()\n",
    "\n",
    "    # Her bir gruplama sonucunu DataFramelere dönüştürün ve sütun isimlerini belirtelim\n",
    "    a = a.reset_index()\n",
    "    a.columns = ['line', 'transport_type_id', 'number_of_passenger']\n",
    "\n",
    "    b = b.reset_index()\n",
    "    b.columns = ['line', 'transport_type_id', 'transition_hour']\n",
    "\n",
    "    c = c.reset_index()\n",
    "    c.columns = ['line', 'transport_type_id', 'number_of_passage']\n",
    "\n",
    "    # Her bir DataFrame'i birleştirelim\n",
    "    mix_df = pd.concat([a, b['transition_hour'], c['number_of_passage']], axis=1)\n",
    "    \n",
    "    mix_df['year'] = year\n",
    "    mix_df['month'] = month\n",
    "    \n",
    "    sira = ['line', 'month', 'year','transport_type_id', 'transition_hour', 'number_of_passage', 'number_of_passenger']\n",
    "    sira = list(dict.fromkeys(sira))  # Sira listesindeki yinelenen sütunların gelmesinden korunalım\n",
    "    mix_df = mix_df[sira]\n",
    "    return mix_df"
   ]
  },
  {
   "cell_type": "code",
   "execution_count": 27,
   "metadata": {},
   "outputs": [],
   "source": [
    "ocak = pd.read_csv('Ocak_2022.csv')\n",
    "ocak_df = data_prep(2022,1,ocak)"
   ]
  },
  {
   "cell_type": "code",
   "execution_count": 28,
   "metadata": {},
   "outputs": [],
   "source": [
    "subat = pd.read_csv('Subat_2022.csv')\n",
    "subat_df = data_prep(2022,2,subat)"
   ]
  },
  {
   "cell_type": "code",
   "execution_count": 29,
   "metadata": {},
   "outputs": [],
   "source": [
    "mart = pd.read_csv('Mart_2022.csv')\n",
    "mart_df = data_prep(2022,3,mart)"
   ]
  },
  {
   "cell_type": "code",
   "execution_count": 30,
   "metadata": {},
   "outputs": [],
   "source": [
    "nisan = pd.read_csv('Nisan_2022.csv')\n",
    "nisan_df = data_prep(2022,4,nisan)"
   ]
  },
  {
   "cell_type": "code",
   "execution_count": 31,
   "metadata": {},
   "outputs": [],
   "source": [
    "mayis = pd.read_csv('Mayis_2022.csv')\n",
    "mayis_df = data_prep(2022,5,mayis)"
   ]
  },
  {
   "cell_type": "code",
   "execution_count": 32,
   "metadata": {},
   "outputs": [],
   "source": [
    "haziran = pd.read_csv('Haziran_2022.csv')\n",
    "haziran_df = data_prep(2022,6,haziran)"
   ]
  },
  {
   "cell_type": "code",
   "execution_count": 33,
   "metadata": {},
   "outputs": [],
   "source": [
    "temmuz = pd.read_csv('Temmuz_2022.csv')\n",
    "temmuz_df = data_prep(2022,7,temmuz)"
   ]
  },
  {
   "cell_type": "code",
   "execution_count": 34,
   "metadata": {},
   "outputs": [],
   "source": [
    "agustos = pd.read_csv('Agustos_2022.csv')\n",
    "agustos_df = data_prep(2022,8,agustos)"
   ]
  },
  {
   "cell_type": "code",
   "execution_count": 35,
   "metadata": {},
   "outputs": [],
   "source": [
    "eylul = pd.read_csv('Eylul_2022.csv')\n",
    "eylul_df = data_prep(2022,9,eylul)"
   ]
  },
  {
   "cell_type": "code",
   "execution_count": 36,
   "metadata": {},
   "outputs": [],
   "source": [
    "ekim = pd.read_csv('Ekim_2022.csv')\n",
    "ekim_df = data_prep(2022,10,ekim)"
   ]
  },
  {
   "cell_type": "code",
   "execution_count": 37,
   "metadata": {},
   "outputs": [],
   "source": [
    "kasim = pd.read_csv('Kasim_2022.csv')\n",
    "kasim_df = data_prep(2022,11,kasim)"
   ]
  },
  {
   "cell_type": "code",
   "execution_count": 38,
   "metadata": {},
   "outputs": [],
   "source": [
    "aralik = pd.read_csv('Aralik_2022.csv')\n",
    "aralik_df = data_prep(2022,12,aralik)"
   ]
  },
  {
   "cell_type": "code",
   "execution_count": 39,
   "metadata": {},
   "outputs": [],
   "source": [
    "mix_df = pd.concat([ocak_df,mart_df,nisan_df,mayis_df,haziran_df,temmuz_df,agustos_df,eylul_df,ekim_df,kasim_df,aralik_df], ignore_index=True)"
   ]
  },
  {
   "cell_type": "code",
   "execution_count": 40,
   "metadata": {},
   "outputs": [],
   "source": [
    "mix_df.to_csv('2022.csv', index=False)"
   ]
  },
  {
   "cell_type": "code",
   "execution_count": 41,
   "metadata": {},
   "outputs": [
    {
     "data": {
      "text/html": [
       "<div>\n",
       "<style scoped>\n",
       "    .dataframe tbody tr th:only-of-type {\n",
       "        vertical-align: middle;\n",
       "    }\n",
       "\n",
       "    .dataframe tbody tr th {\n",
       "        vertical-align: top;\n",
       "    }\n",
       "\n",
       "    .dataframe thead th {\n",
       "        text-align: right;\n",
       "    }\n",
       "</style>\n",
       "<table border=\"1\" class=\"dataframe\">\n",
       "  <thead>\n",
       "    <tr style=\"text-align: right;\">\n",
       "      <th></th>\n",
       "      <th>line</th>\n",
       "      <th>month</th>\n",
       "      <th>year</th>\n",
       "      <th>transport_type_id</th>\n",
       "      <th>transition_hour</th>\n",
       "      <th>number_of_passage</th>\n",
       "      <th>number_of_passenger</th>\n",
       "    </tr>\n",
       "  </thead>\n",
       "  <tbody>\n",
       "    <tr>\n",
       "      <th>0</th>\n",
       "      <td>EMINONU-OKMEYDANI</td>\n",
       "      <td>1</td>\n",
       "      <td>2022</td>\n",
       "      <td>1</td>\n",
       "      <td>13.931202</td>\n",
       "      <td>58011</td>\n",
       "      <td>57783</td>\n",
       "    </tr>\n",
       "    <tr>\n",
       "      <th>1</th>\n",
       "      <td>KARTAL-AYDOS HILAL KONUTLARI</td>\n",
       "      <td>1</td>\n",
       "      <td>2022</td>\n",
       "      <td>1</td>\n",
       "      <td>13.910646</td>\n",
       "      <td>68634</td>\n",
       "      <td>68275</td>\n",
       "    </tr>\n",
       "    <tr>\n",
       "      <th>2</th>\n",
       "      <td>A.YESEVI MAH-UMRANIYE</td>\n",
       "      <td>1</td>\n",
       "      <td>2022</td>\n",
       "      <td>1</td>\n",
       "      <td>13.293970</td>\n",
       "      <td>25551</td>\n",
       "      <td>25514</td>\n",
       "    </tr>\n",
       "    <tr>\n",
       "      <th>3</th>\n",
       "      <td>ACARLAR SITESI / ATASEHIR - USKUDAR</td>\n",
       "      <td>1</td>\n",
       "      <td>2022</td>\n",
       "      <td>1</td>\n",
       "      <td>13.553996</td>\n",
       "      <td>25734</td>\n",
       "      <td>25704</td>\n",
       "    </tr>\n",
       "    <tr>\n",
       "      <th>4</th>\n",
       "      <td>ADA TAKSI</td>\n",
       "      <td>1</td>\n",
       "      <td>2022</td>\n",
       "      <td>1</td>\n",
       "      <td>13.213115</td>\n",
       "      <td>16608</td>\n",
       "      <td>16393</td>\n",
       "    </tr>\n",
       "  </tbody>\n",
       "</table>\n",
       "</div>"
      ],
      "text/plain": [
       "                                  line  month  year  transport_type_id  \\\n",
       "0                    EMINONU-OKMEYDANI      1  2022                  1   \n",
       "1         KARTAL-AYDOS HILAL KONUTLARI      1  2022                  1   \n",
       "2                A.YESEVI MAH-UMRANIYE      1  2022                  1   \n",
       "3  ACARLAR SITESI / ATASEHIR - USKUDAR      1  2022                  1   \n",
       "4                            ADA TAKSI      1  2022                  1   \n",
       "\n",
       "   transition_hour  number_of_passage  number_of_passenger  \n",
       "0        13.931202              58011                57783  \n",
       "1        13.910646              68634                68275  \n",
       "2        13.293970              25551                25514  \n",
       "3        13.553996              25734                25704  \n",
       "4        13.213115              16608                16393  "
      ]
     },
     "execution_count": 41,
     "metadata": {},
     "output_type": "execute_result"
    }
   ],
   "source": [
    "mix_df.head()"
   ]
  },
  {
   "cell_type": "code",
   "execution_count": 49,
   "metadata": {},
   "outputs": [],
   "source": [
    "a2022 = pd.read_csv(\"2022.csv\")\n",
    "a2021 = pd.read_csv(\"2021.csv\")"
   ]
  },
  {
   "cell_type": "code",
   "execution_count": 50,
   "metadata": {},
   "outputs": [],
   "source": [
    "mix_df = pd.concat([a2021, a2022], ignore_index=True)\n",
    "mix_df['intensity'] = mix_df['number_of_passenger']/mix_df['number_of_passage']"
   ]
  },
  {
   "cell_type": "code",
   "execution_count": 51,
   "metadata": {},
   "outputs": [],
   "source": [
    "mix_df.to_csv('data.csv', index=False)\n"
   ]
  },
  {
   "cell_type": "code",
   "execution_count": 70,
   "metadata": {},
   "outputs": [],
   "source": [
    "mix_df = mix_df[mix_df['number_of_passage'] >= 100]"
   ]
  }
 ],
 "metadata": {
  "kernelspec": {
   "display_name": "Python 3",
   "language": "python",
   "name": "python3"
  },
  "language_info": {
   "codemirror_mode": {
    "name": "ipython",
    "version": 3
   },
   "file_extension": ".py",
   "mimetype": "text/x-python",
   "name": "python",
   "nbconvert_exporter": "python",
   "pygments_lexer": "ipython3",
   "version": "3.11.4"
  }
 },
 "nbformat": 4,
 "nbformat_minor": 2
}
